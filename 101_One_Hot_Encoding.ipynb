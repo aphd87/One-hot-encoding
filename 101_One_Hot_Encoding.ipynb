{
 "cells": [
  {
   "cell_type": "code",
   "execution_count": 1,
   "id": "ea2614e2",
   "metadata": {},
   "outputs": [],
   "source": [
    "import pandas as pd\n",
    "from sklearn.preprocessing import OneHotEncoder\n",
    "\n"
   ]
  },
  {
   "cell_type": "code",
   "execution_count": 2,
   "id": "2627508a",
   "metadata": {},
   "outputs": [],
   "source": [
    "X = pd.DataFrame({\"input1\" : [1,2,3,4,5],\n",
    "                 \"input2\" : [\"A\",\"A\",\"B\",\"B\",\"C\"],\n",
    "                  \"input3\" : [\"X\",\"X\",\"X\",\"Y\",\"Y\"]}) "
   ]
  },
  {
   "cell_type": "code",
   "execution_count": 3,
   "id": "f6b10aee",
   "metadata": {},
   "outputs": [
    {
     "data": {
      "text/html": [
       "<div>\n",
       "<style scoped>\n",
       "    .dataframe tbody tr th:only-of-type {\n",
       "        vertical-align: middle;\n",
       "    }\n",
       "\n",
       "    .dataframe tbody tr th {\n",
       "        vertical-align: top;\n",
       "    }\n",
       "\n",
       "    .dataframe thead th {\n",
       "        text-align: right;\n",
       "    }\n",
       "</style>\n",
       "<table border=\"1\" class=\"dataframe\">\n",
       "  <thead>\n",
       "    <tr style=\"text-align: right;\">\n",
       "      <th></th>\n",
       "      <th>input1</th>\n",
       "      <th>input2</th>\n",
       "      <th>input3</th>\n",
       "    </tr>\n",
       "  </thead>\n",
       "  <tbody>\n",
       "    <tr>\n",
       "      <th>0</th>\n",
       "      <td>1</td>\n",
       "      <td>A</td>\n",
       "      <td>X</td>\n",
       "    </tr>\n",
       "    <tr>\n",
       "      <th>1</th>\n",
       "      <td>2</td>\n",
       "      <td>A</td>\n",
       "      <td>X</td>\n",
       "    </tr>\n",
       "    <tr>\n",
       "      <th>2</th>\n",
       "      <td>3</td>\n",
       "      <td>B</td>\n",
       "      <td>X</td>\n",
       "    </tr>\n",
       "    <tr>\n",
       "      <th>3</th>\n",
       "      <td>4</td>\n",
       "      <td>B</td>\n",
       "      <td>Y</td>\n",
       "    </tr>\n",
       "    <tr>\n",
       "      <th>4</th>\n",
       "      <td>5</td>\n",
       "      <td>C</td>\n",
       "      <td>Y</td>\n",
       "    </tr>\n",
       "  </tbody>\n",
       "</table>\n",
       "</div>"
      ],
      "text/plain": [
       "   input1 input2 input3\n",
       "0       1      A      X\n",
       "1       2      A      X\n",
       "2       3      B      X\n",
       "3       4      B      Y\n",
       "4       5      C      Y"
      ]
     },
     "execution_count": 3,
     "metadata": {},
     "output_type": "execute_result"
    }
   ],
   "source": [
    "X"
   ]
  },
  {
   "cell_type": "code",
   "execution_count": 4,
   "id": "d77bba38",
   "metadata": {},
   "outputs": [],
   "source": [
    "categorical_vars = [\"input2\", \"input3\"]"
   ]
  },
  {
   "cell_type": "code",
   "execution_count": 5,
   "id": "2378edcc",
   "metadata": {},
   "outputs": [],
   "source": [
    "#Instantiate one hot encoder object\n",
    "one_hot_encoder = OneHotEncoder(sparse=False)"
   ]
  },
  {
   "cell_type": "code",
   "execution_count": 6,
   "id": "70748e5e",
   "metadata": {},
   "outputs": [
    {
     "name": "stderr",
     "output_type": "stream",
     "text": [
      "C:\\Users\\19144\\anaconda4\\Lib\\site-packages\\sklearn\\preprocessing\\_encoders.py:972: FutureWarning: `sparse` was renamed to `sparse_output` in version 1.2 and will be removed in 1.4. `sparse_output` is ignored unless you leave `sparse` to its default value.\n",
      "  warnings.warn(\n"
     ]
    }
   ],
   "source": [
    "encoder_vars_array = one_hot_encoder.fit_transform(X[categorical_vars])"
   ]
  },
  {
   "cell_type": "code",
   "execution_count": 7,
   "id": "05ff1ea9",
   "metadata": {},
   "outputs": [
    {
     "data": {
      "text/plain": [
       "array([[1., 0., 0., 1., 0.],\n",
       "       [1., 0., 0., 1., 0.],\n",
       "       [0., 1., 0., 1., 0.],\n",
       "       [0., 1., 0., 0., 1.],\n",
       "       [0., 0., 1., 0., 1.]])"
      ]
     },
     "execution_count": 7,
     "metadata": {},
     "output_type": "execute_result"
    }
   ],
   "source": [
    "encoder_vars_array"
   ]
  },
  {
   "cell_type": "code",
   "execution_count": 8,
   "id": "19d840f0",
   "metadata": {},
   "outputs": [],
   "source": [
    "#binary representations for input 2 and input 3 \n",
    "#input 2 has 3 unique values, input 3 has 2 unique values\n",
    "#However, we need to know what each column represents\n",
    "#Get feature names"
   ]
  },
  {
   "cell_type": "code",
   "execution_count": 9,
   "id": "e1c36780",
   "metadata": {},
   "outputs": [],
   "source": [
    "# Get feature names\n",
    "encoder_feature_names = one_hot_encoder.get_feature_names_out(categorical_vars)"
   ]
  },
  {
   "cell_type": "code",
   "execution_count": 10,
   "id": "2e56e41f",
   "metadata": {},
   "outputs": [
    {
     "data": {
      "text/plain": [
       "array(['input2_A', 'input2_B', 'input2_C', 'input3_X', 'input3_Y'],\n",
       "      dtype=object)"
      ]
     },
     "execution_count": 10,
     "metadata": {},
     "output_type": "execute_result"
    }
   ],
   "source": [
    "encoder_feature_names"
   ]
  },
  {
   "cell_type": "code",
   "execution_count": 11,
   "id": "4c41fae2",
   "metadata": {},
   "outputs": [],
   "source": [
    "#Data frame to hold new columns\n",
    "\n",
    "encoder_vars_df = pd.DataFrame(encoder_vars_array, columns = encoder_feature_names)"
   ]
  },
  {
   "cell_type": "code",
   "execution_count": 12,
   "id": "73ff4f0c",
   "metadata": {},
   "outputs": [
    {
     "data": {
      "text/html": [
       "<div>\n",
       "<style scoped>\n",
       "    .dataframe tbody tr th:only-of-type {\n",
       "        vertical-align: middle;\n",
       "    }\n",
       "\n",
       "    .dataframe tbody tr th {\n",
       "        vertical-align: top;\n",
       "    }\n",
       "\n",
       "    .dataframe thead th {\n",
       "        text-align: right;\n",
       "    }\n",
       "</style>\n",
       "<table border=\"1\" class=\"dataframe\">\n",
       "  <thead>\n",
       "    <tr style=\"text-align: right;\">\n",
       "      <th></th>\n",
       "      <th>input2_A</th>\n",
       "      <th>input2_B</th>\n",
       "      <th>input2_C</th>\n",
       "      <th>input3_X</th>\n",
       "      <th>input3_Y</th>\n",
       "    </tr>\n",
       "  </thead>\n",
       "  <tbody>\n",
       "    <tr>\n",
       "      <th>0</th>\n",
       "      <td>1.0</td>\n",
       "      <td>0.0</td>\n",
       "      <td>0.0</td>\n",
       "      <td>1.0</td>\n",
       "      <td>0.0</td>\n",
       "    </tr>\n",
       "    <tr>\n",
       "      <th>1</th>\n",
       "      <td>1.0</td>\n",
       "      <td>0.0</td>\n",
       "      <td>0.0</td>\n",
       "      <td>1.0</td>\n",
       "      <td>0.0</td>\n",
       "    </tr>\n",
       "    <tr>\n",
       "      <th>2</th>\n",
       "      <td>0.0</td>\n",
       "      <td>1.0</td>\n",
       "      <td>0.0</td>\n",
       "      <td>1.0</td>\n",
       "      <td>0.0</td>\n",
       "    </tr>\n",
       "    <tr>\n",
       "      <th>3</th>\n",
       "      <td>0.0</td>\n",
       "      <td>1.0</td>\n",
       "      <td>0.0</td>\n",
       "      <td>0.0</td>\n",
       "      <td>1.0</td>\n",
       "    </tr>\n",
       "    <tr>\n",
       "      <th>4</th>\n",
       "      <td>0.0</td>\n",
       "      <td>0.0</td>\n",
       "      <td>1.0</td>\n",
       "      <td>0.0</td>\n",
       "      <td>1.0</td>\n",
       "    </tr>\n",
       "  </tbody>\n",
       "</table>\n",
       "</div>"
      ],
      "text/plain": [
       "   input2_A  input2_B  input2_C  input3_X  input3_Y\n",
       "0       1.0       0.0       0.0       1.0       0.0\n",
       "1       1.0       0.0       0.0       1.0       0.0\n",
       "2       0.0       1.0       0.0       1.0       0.0\n",
       "3       0.0       1.0       0.0       0.0       1.0\n",
       "4       0.0       0.0       1.0       0.0       1.0"
      ]
     },
     "execution_count": 12,
     "metadata": {},
     "output_type": "execute_result"
    }
   ],
   "source": [
    "encoder_vars_df\n",
    "#Now have data frame with encoded columns"
   ]
  },
  {
   "cell_type": "code",
   "execution_count": 13,
   "id": "424c0c46",
   "metadata": {},
   "outputs": [],
   "source": [
    "#Concatenate new data from back to original data frame"
   ]
  },
  {
   "cell_type": "code",
   "execution_count": 14,
   "id": "b44ed43b",
   "metadata": {},
   "outputs": [],
   "source": [
    "X_new = pd.concat([X.reset_index(drop=True), encoder_vars_df.reset_index(drop=True)], axis=1)\n",
    "#reset index - we want to be sure that no rows are not aligned, which can result in missing values\n",
    "#axis=1 so pandas knows we're concatenating columns, and not rows"
   ]
  },
  {
   "cell_type": "code",
   "execution_count": 15,
   "id": "b6114d51",
   "metadata": {},
   "outputs": [
    {
     "data": {
      "text/html": [
       "<div>\n",
       "<style scoped>\n",
       "    .dataframe tbody tr th:only-of-type {\n",
       "        vertical-align: middle;\n",
       "    }\n",
       "\n",
       "    .dataframe tbody tr th {\n",
       "        vertical-align: top;\n",
       "    }\n",
       "\n",
       "    .dataframe thead th {\n",
       "        text-align: right;\n",
       "    }\n",
       "</style>\n",
       "<table border=\"1\" class=\"dataframe\">\n",
       "  <thead>\n",
       "    <tr style=\"text-align: right;\">\n",
       "      <th></th>\n",
       "      <th>input1</th>\n",
       "      <th>input2</th>\n",
       "      <th>input3</th>\n",
       "      <th>input2_A</th>\n",
       "      <th>input2_B</th>\n",
       "      <th>input2_C</th>\n",
       "      <th>input3_X</th>\n",
       "      <th>input3_Y</th>\n",
       "    </tr>\n",
       "  </thead>\n",
       "  <tbody>\n",
       "    <tr>\n",
       "      <th>0</th>\n",
       "      <td>1</td>\n",
       "      <td>A</td>\n",
       "      <td>X</td>\n",
       "      <td>1.0</td>\n",
       "      <td>0.0</td>\n",
       "      <td>0.0</td>\n",
       "      <td>1.0</td>\n",
       "      <td>0.0</td>\n",
       "    </tr>\n",
       "    <tr>\n",
       "      <th>1</th>\n",
       "      <td>2</td>\n",
       "      <td>A</td>\n",
       "      <td>X</td>\n",
       "      <td>1.0</td>\n",
       "      <td>0.0</td>\n",
       "      <td>0.0</td>\n",
       "      <td>1.0</td>\n",
       "      <td>0.0</td>\n",
       "    </tr>\n",
       "    <tr>\n",
       "      <th>2</th>\n",
       "      <td>3</td>\n",
       "      <td>B</td>\n",
       "      <td>X</td>\n",
       "      <td>0.0</td>\n",
       "      <td>1.0</td>\n",
       "      <td>0.0</td>\n",
       "      <td>1.0</td>\n",
       "      <td>0.0</td>\n",
       "    </tr>\n",
       "    <tr>\n",
       "      <th>3</th>\n",
       "      <td>4</td>\n",
       "      <td>B</td>\n",
       "      <td>Y</td>\n",
       "      <td>0.0</td>\n",
       "      <td>1.0</td>\n",
       "      <td>0.0</td>\n",
       "      <td>0.0</td>\n",
       "      <td>1.0</td>\n",
       "    </tr>\n",
       "    <tr>\n",
       "      <th>4</th>\n",
       "      <td>5</td>\n",
       "      <td>C</td>\n",
       "      <td>Y</td>\n",
       "      <td>0.0</td>\n",
       "      <td>0.0</td>\n",
       "      <td>1.0</td>\n",
       "      <td>0.0</td>\n",
       "      <td>1.0</td>\n",
       "    </tr>\n",
       "  </tbody>\n",
       "</table>\n",
       "</div>"
      ],
      "text/plain": [
       "   input1 input2 input3  input2_A  input2_B  input2_C  input3_X  input3_Y\n",
       "0       1      A      X       1.0       0.0       0.0       1.0       0.0\n",
       "1       2      A      X       1.0       0.0       0.0       1.0       0.0\n",
       "2       3      B      X       0.0       1.0       0.0       1.0       0.0\n",
       "3       4      B      Y       0.0       1.0       0.0       0.0       1.0\n",
       "4       5      C      Y       0.0       0.0       1.0       0.0       1.0"
      ]
     },
     "execution_count": 15,
     "metadata": {},
     "output_type": "execute_result"
    }
   ],
   "source": [
    "X_new"
   ]
  },
  {
   "cell_type": "code",
   "execution_count": 16,
   "id": "813afdf4",
   "metadata": {},
   "outputs": [
    {
     "data": {
      "text/html": [
       "<div>\n",
       "<style scoped>\n",
       "    .dataframe tbody tr th:only-of-type {\n",
       "        vertical-align: middle;\n",
       "    }\n",
       "\n",
       "    .dataframe tbody tr th {\n",
       "        vertical-align: top;\n",
       "    }\n",
       "\n",
       "    .dataframe thead th {\n",
       "        text-align: right;\n",
       "    }\n",
       "</style>\n",
       "<table border=\"1\" class=\"dataframe\">\n",
       "  <thead>\n",
       "    <tr style=\"text-align: right;\">\n",
       "      <th></th>\n",
       "      <th>input1</th>\n",
       "      <th>input2_A</th>\n",
       "      <th>input2_B</th>\n",
       "      <th>input2_C</th>\n",
       "      <th>input3_X</th>\n",
       "      <th>input3_Y</th>\n",
       "    </tr>\n",
       "  </thead>\n",
       "  <tbody>\n",
       "    <tr>\n",
       "      <th>0</th>\n",
       "      <td>1</td>\n",
       "      <td>1.0</td>\n",
       "      <td>0.0</td>\n",
       "      <td>0.0</td>\n",
       "      <td>1.0</td>\n",
       "      <td>0.0</td>\n",
       "    </tr>\n",
       "    <tr>\n",
       "      <th>1</th>\n",
       "      <td>2</td>\n",
       "      <td>1.0</td>\n",
       "      <td>0.0</td>\n",
       "      <td>0.0</td>\n",
       "      <td>1.0</td>\n",
       "      <td>0.0</td>\n",
       "    </tr>\n",
       "    <tr>\n",
       "      <th>2</th>\n",
       "      <td>3</td>\n",
       "      <td>0.0</td>\n",
       "      <td>1.0</td>\n",
       "      <td>0.0</td>\n",
       "      <td>1.0</td>\n",
       "      <td>0.0</td>\n",
       "    </tr>\n",
       "    <tr>\n",
       "      <th>3</th>\n",
       "      <td>4</td>\n",
       "      <td>0.0</td>\n",
       "      <td>1.0</td>\n",
       "      <td>0.0</td>\n",
       "      <td>0.0</td>\n",
       "      <td>1.0</td>\n",
       "    </tr>\n",
       "    <tr>\n",
       "      <th>4</th>\n",
       "      <td>5</td>\n",
       "      <td>0.0</td>\n",
       "      <td>0.0</td>\n",
       "      <td>1.0</td>\n",
       "      <td>0.0</td>\n",
       "      <td>1.0</td>\n",
       "    </tr>\n",
       "  </tbody>\n",
       "</table>\n",
       "</div>"
      ],
      "text/plain": [
       "   input1  input2_A  input2_B  input2_C  input3_X  input3_Y\n",
       "0       1       1.0       0.0       0.0       1.0       0.0\n",
       "1       2       1.0       0.0       0.0       1.0       0.0\n",
       "2       3       0.0       1.0       0.0       1.0       0.0\n",
       "3       4       0.0       1.0       0.0       0.0       1.0\n",
       "4       5       0.0       0.0       1.0       0.0       1.0"
      ]
     },
     "execution_count": 16,
     "metadata": {},
     "output_type": "execute_result"
    }
   ],
   "source": [
    "#Drop original input2 and input3\n",
    "X_new.drop(categorical_vars, axis = 1) #1 - dealing with columns, \n",
    "#inplace=True - so that this changes are applied to X_new object, rather than printed to console"
   ]
  },
  {
   "cell_type": "code",
   "execution_count": 18,
   "id": "5add8ebf",
   "metadata": {},
   "outputs": [],
   "source": [
    "#When using one hot encoding, to prevent dummy variable trap\n",
    "\n",
    "#Add parameter - ensure one of the encoded columns is always removed\n",
    "\n",
    "one_hot_encoder = OneHotEncoder(sparse=False, drop = \"first\")"
   ]
  },
  {
   "cell_type": "code",
   "execution_count": 22,
   "id": "3ae7fa84",
   "metadata": {},
   "outputs": [
    {
     "name": "stderr",
     "output_type": "stream",
     "text": [
      "C:\\Users\\19144\\anaconda4\\Lib\\site-packages\\sklearn\\preprocessing\\_encoders.py:972: FutureWarning: `sparse` was renamed to `sparse_output` in version 1.2 and will be removed in 1.4. `sparse_output` is ignored unless you leave `sparse` to its default value.\n",
      "  warnings.warn(\n"
     ]
    },
    {
     "data": {
      "text/html": [
       "<div>\n",
       "<style scoped>\n",
       "    .dataframe tbody tr th:only-of-type {\n",
       "        vertical-align: middle;\n",
       "    }\n",
       "\n",
       "    .dataframe tbody tr th {\n",
       "        vertical-align: top;\n",
       "    }\n",
       "\n",
       "    .dataframe thead th {\n",
       "        text-align: right;\n",
       "    }\n",
       "</style>\n",
       "<table border=\"1\" class=\"dataframe\">\n",
       "  <thead>\n",
       "    <tr style=\"text-align: right;\">\n",
       "      <th></th>\n",
       "      <th>input1</th>\n",
       "      <th>input2_B</th>\n",
       "      <th>input2_C</th>\n",
       "      <th>input3_Y</th>\n",
       "    </tr>\n",
       "  </thead>\n",
       "  <tbody>\n",
       "    <tr>\n",
       "      <th>0</th>\n",
       "      <td>1</td>\n",
       "      <td>0.0</td>\n",
       "      <td>0.0</td>\n",
       "      <td>0.0</td>\n",
       "    </tr>\n",
       "    <tr>\n",
       "      <th>1</th>\n",
       "      <td>2</td>\n",
       "      <td>0.0</td>\n",
       "      <td>0.0</td>\n",
       "      <td>0.0</td>\n",
       "    </tr>\n",
       "    <tr>\n",
       "      <th>2</th>\n",
       "      <td>3</td>\n",
       "      <td>1.0</td>\n",
       "      <td>0.0</td>\n",
       "      <td>0.0</td>\n",
       "    </tr>\n",
       "    <tr>\n",
       "      <th>3</th>\n",
       "      <td>4</td>\n",
       "      <td>1.0</td>\n",
       "      <td>0.0</td>\n",
       "      <td>1.0</td>\n",
       "    </tr>\n",
       "    <tr>\n",
       "      <th>4</th>\n",
       "      <td>5</td>\n",
       "      <td>0.0</td>\n",
       "      <td>1.0</td>\n",
       "      <td>1.0</td>\n",
       "    </tr>\n",
       "  </tbody>\n",
       "</table>\n",
       "</div>"
      ],
      "text/plain": [
       "   input1  input2_B  input2_C  input3_Y\n",
       "0       1       0.0       0.0       0.0\n",
       "1       2       0.0       0.0       0.0\n",
       "2       3       1.0       0.0       0.0\n",
       "3       4       1.0       0.0       1.0\n",
       "4       5       0.0       1.0       1.0"
      ]
     },
     "execution_count": 22,
     "metadata": {},
     "output_type": "execute_result"
    }
   ],
   "source": [
    "one_hot_encoder\n",
    "encoder_vars_array = one_hot_encoder.fit_transform(X[categorical_vars])\n",
    "encoder_feature_names = one_hot_encoder.get_feature_names_out(categorical_vars)\n",
    "encoder_vars_df = pd.DataFrame(encoder_vars_array, columns = encoder_feature_names)\n",
    "X_new = pd.concat([X.reset_index(drop=True), encoder_vars_df.reset_index(drop=True)], axis=1)\n",
    "X_new.drop(categorical_vars, axis = 1) #1 - dealing with columns, "
   ]
  },
  {
   "cell_type": "code",
   "execution_count": null,
   "id": "d8d8e698",
   "metadata": {},
   "outputs": [],
   "source": [
    "#Now have three encoded columns - dropped one for input2, and one for input3"
   ]
  }
 ],
 "metadata": {
  "kernelspec": {
   "display_name": "Python 3 (ipykernel)",
   "language": "python",
   "name": "python3"
  },
  "language_info": {
   "codemirror_mode": {
    "name": "ipython",
    "version": 3
   },
   "file_extension": ".py",
   "mimetype": "text/x-python",
   "name": "python",
   "nbconvert_exporter": "python",
   "pygments_lexer": "ipython3",
   "version": "3.11.5"
  }
 },
 "nbformat": 4,
 "nbformat_minor": 5
}
